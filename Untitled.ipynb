{
 "cells": [
  {
   "cell_type": "code",
   "execution_count": 1,
   "metadata": {},
   "outputs": [
    {
     "name": "stdout",
     "output_type": "stream",
     "text": [
      " * Serving Flask app \"__main__\" (lazy loading)\n",
      " * Environment: production\n",
      "   WARNING: This is a development server. Do not use it in a production deployment.\n",
      "   Use a production WSGI server instead.\n",
      " * Debug mode: off\n"
     ]
    },
    {
     "name": "stderr",
     "output_type": "stream",
     "text": [
      " * Running on http://127.0.0.1:5000/ (Press CTRL+C to quit)\n",
      "[2019-12-27 19:46:36,850] ERROR in app: Exception on / [GET]\n",
      "Traceback (most recent call last):\n",
      "  File \"c:\\users\\india\\appdata\\local\\programs\\python\\python38-32\\lib\\site-packages\\boto3\\s3\\transfer.py\", line 279, in upload_file\n",
      "    future.result()\n",
      "  File \"c:\\users\\india\\appdata\\local\\programs\\python\\python38-32\\lib\\site-packages\\s3transfer\\futures.py\", line 106, in result\n",
      "    return self._coordinator.result()\n",
      "  File \"c:\\users\\india\\appdata\\local\\programs\\python\\python38-32\\lib\\site-packages\\s3transfer\\futures.py\", line 265, in result\n",
      "    raise self._exception\n",
      "  File \"c:\\users\\india\\appdata\\local\\programs\\python\\python38-32\\lib\\site-packages\\s3transfer\\tasks.py\", line 126, in __call__\n",
      "    return self._execute_main(kwargs)\n",
      "  File \"c:\\users\\india\\appdata\\local\\programs\\python\\python38-32\\lib\\site-packages\\s3transfer\\tasks.py\", line 150, in _execute_main\n",
      "    return_value = self._main(**kwargs)\n",
      "  File \"c:\\users\\india\\appdata\\local\\programs\\python\\python38-32\\lib\\site-packages\\s3transfer\\upload.py\", line 692, in _main\n",
      "    client.put_object(Bucket=bucket, Key=key, Body=body, **extra_args)\n",
      "  File \"c:\\users\\india\\appdata\\local\\programs\\python\\python38-32\\lib\\site-packages\\botocore\\client.py\", line 276, in _api_call\n",
      "    return self._make_api_call(operation_name, kwargs)\n",
      "  File \"c:\\users\\india\\appdata\\local\\programs\\python\\python38-32\\lib\\site-packages\\botocore\\client.py\", line 586, in _make_api_call\n",
      "    raise error_class(parsed_response, operation_name)\n",
      "botocore.exceptions.ClientError: An error occurred (InvalidAccessKeyId) when calling the PutObject operation: The AWS Access Key Id you provided does not exist in our records.\n",
      "\n",
      "During handling of the above exception, another exception occurred:\n",
      "\n",
      "Traceback (most recent call last):\n",
      "  File \"c:\\users\\india\\appdata\\local\\programs\\python\\python38-32\\lib\\site-packages\\flask\\app.py\", line 2446, in wsgi_app\n",
      "    response = self.full_dispatch_request()\n",
      "  File \"c:\\users\\india\\appdata\\local\\programs\\python\\python38-32\\lib\\site-packages\\flask\\app.py\", line 1951, in full_dispatch_request\n",
      "    rv = self.handle_user_exception(e)\n",
      "  File \"c:\\users\\india\\appdata\\local\\programs\\python\\python38-32\\lib\\site-packages\\flask\\app.py\", line 1820, in handle_user_exception\n",
      "    reraise(exc_type, exc_value, tb)\n",
      "  File \"c:\\users\\india\\appdata\\local\\programs\\python\\python38-32\\lib\\site-packages\\flask\\_compat.py\", line 39, in reraise\n",
      "    raise value\n",
      "  File \"c:\\users\\india\\appdata\\local\\programs\\python\\python38-32\\lib\\site-packages\\flask\\app.py\", line 1949, in full_dispatch_request\n",
      "    rv = self.dispatch_request()\n",
      "  File \"c:\\users\\india\\appdata\\local\\programs\\python\\python38-32\\lib\\site-packages\\flask\\app.py\", line 1935, in dispatch_request\n",
      "    return self.view_functions[rule.endpoint](**req.view_args)\n",
      "  File \"<ipython-input-1-950053537689>\", line 11, in hello\n",
      "    s3_client.upload_file('config.py', 'rekognai-test', 'dude.py')\n",
      "  File \"c:\\users\\india\\appdata\\local\\programs\\python\\python38-32\\lib\\site-packages\\boto3\\s3\\inject.py\", line 129, in upload_file\n",
      "    return transfer.upload_file(\n",
      "  File \"c:\\users\\india\\appdata\\local\\programs\\python\\python38-32\\lib\\site-packages\\boto3\\s3\\transfer.py\", line 285, in upload_file\n",
      "    raise S3UploadFailedError(\n",
      "boto3.exceptions.S3UploadFailedError: Failed to upload config.py to rekognai-test/dude.py: An error occurred (InvalidAccessKeyId) when calling the PutObject operation: The AWS Access Key Id you provided does not exist in our records.\n",
      "127.0.0.1 - - [27/Dec/2019 19:46:36] \"GET / HTTP/1.1\" 500 -\n"
     ]
    }
   ],
   "source": [
    "from flask import Flask\n",
    "from config import ACCESS_KEY, SECRET_KEY\n",
    "import boto3\n",
    "\n",
    "app = Flask(__name__)\n",
    "s3_client = boto3.client(\"s3\",aws_access_key_id=ACCESS_KEY, aws_secret_access_key=SECRET_KEY)\n",
    "\n",
    "\n",
    "@app.route(\"/\")\n",
    "def hello():\n",
    "    s3_client.upload_file('config.py', 'rekognai-test', 'dude.py')\n",
    "    return \"Hi\"\n",
    "\n",
    "\n",
    "app.run()"
   ]
  },
  {
   "cell_type": "code",
   "execution_count": null,
   "metadata": {},
   "outputs": [],
   "source": []
  }
 ],
 "metadata": {
  "kernelspec": {
   "display_name": "Python 3",
   "language": "python",
   "name": "python3"
  },
  "language_info": {
   "codemirror_mode": {
    "name": "ipython",
    "version": 3
   },
   "file_extension": ".py",
   "mimetype": "text/x-python",
   "name": "python",
   "nbconvert_exporter": "python",
   "pygments_lexer": "ipython3",
   "version": "3.8.1"
  }
 },
 "nbformat": 4,
 "nbformat_minor": 2
}
